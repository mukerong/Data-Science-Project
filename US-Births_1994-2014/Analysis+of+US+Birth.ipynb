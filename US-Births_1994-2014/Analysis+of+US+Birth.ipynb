{
 "cells": [
  {
   "cell_type": "markdown",
   "metadata": {},
   "source": [
    "# Analysis of US Birth from 1994 - 2014\n",
    "\n",
    "This is my first analysis project, so I choose some simple data to get start. The data I choose are US birth data from 1994 - 2004 and 2004 - 2014. These two datasets are under the same format, they have the following columns:\n",
    "\n",
    "* year: the birth year\n",
    "* month: the birth month\n",
    "* date_of_momth: the birth date of a month\n",
    "* day_of_week: the birth day of a week\n",
    "* births: the total number of birth"
   ]
  },
  {
   "cell_type": "markdown",
   "metadata": {},
   "source": [
    "## Questions to answer\n",
    "\n",
    "Right after finding these two datasets, there are several questions that I want to figure out:\n",
    "\n",
    "* During these 20 years, is there a year that has significant more new births than the other?\n",
    "* Within a year, which month has the most new babies?\n",
    "* Within a week, what day has the most new babies?\n",
    "* I am interested in the 12 zodiacs, so which zodiac has the most people for the past 20 years."
   ]
  },
  {
   "cell_type": "markdown",
   "metadata": {},
   "source": [
    "I will import necessary modules first before diging into these datasets."
   ]
  },
  {
   "cell_type": "code",
   "execution_count": 1,
   "metadata": {
    "collapsed": true
   },
   "outputs": [],
   "source": [
    "import numpy as np\n",
    "import pandas as pd\n",
    "import matplotlib.pyplot as plt\n",
    "import seaborn as sns\n",
    "\n",
    "%matplotlib inline"
   ]
  },
  {
   "cell_type": "markdown",
   "metadata": {},
   "source": [
    "To get start, I need to explore the data by reading the data to a table and get the general overview of the whole data."
   ]
  },
  {
   "cell_type": "markdown",
   "metadata": {},
   "source": [
    "Read the first dataset:"
   ]
  },
  {
   "cell_type": "code",
   "execution_count": 2,
   "metadata": {},
   "outputs": [
    {
     "data": {
      "text/html": [
       "<div>\n",
       "<table border=\"1\" class=\"dataframe\">\n",
       "  <thead>\n",
       "    <tr style=\"text-align: right;\">\n",
       "      <th></th>\n",
       "      <th>year</th>\n",
       "      <th>month</th>\n",
       "      <th>date_of_month</th>\n",
       "      <th>day_of_week</th>\n",
       "      <th>births</th>\n",
       "    </tr>\n",
       "  </thead>\n",
       "  <tbody>\n",
       "    <tr>\n",
       "      <th>0</th>\n",
       "      <td>1994</td>\n",
       "      <td>1</td>\n",
       "      <td>1</td>\n",
       "      <td>6</td>\n",
       "      <td>8096</td>\n",
       "    </tr>\n",
       "    <tr>\n",
       "      <th>1</th>\n",
       "      <td>1994</td>\n",
       "      <td>1</td>\n",
       "      <td>2</td>\n",
       "      <td>7</td>\n",
       "      <td>7772</td>\n",
       "    </tr>\n",
       "    <tr>\n",
       "      <th>2</th>\n",
       "      <td>1994</td>\n",
       "      <td>1</td>\n",
       "      <td>3</td>\n",
       "      <td>1</td>\n",
       "      <td>10142</td>\n",
       "    </tr>\n",
       "    <tr>\n",
       "      <th>3</th>\n",
       "      <td>1994</td>\n",
       "      <td>1</td>\n",
       "      <td>4</td>\n",
       "      <td>2</td>\n",
       "      <td>11248</td>\n",
       "    </tr>\n",
       "    <tr>\n",
       "      <th>4</th>\n",
       "      <td>1994</td>\n",
       "      <td>1</td>\n",
       "      <td>5</td>\n",
       "      <td>3</td>\n",
       "      <td>11053</td>\n",
       "    </tr>\n",
       "  </tbody>\n",
       "</table>\n",
       "</div>"
      ],
      "text/plain": [
       "   year  month  date_of_month  day_of_week  births\n",
       "0  1994      1              1            6    8096\n",
       "1  1994      1              2            7    7772\n",
       "2  1994      1              3            1   10142\n",
       "3  1994      1              4            2   11248\n",
       "4  1994      1              5            3   11053"
      ]
     },
     "execution_count": 2,
     "metadata": {},
     "output_type": "execute_result"
    }
   ],
   "source": [
    "data1 = pd.read_csv('US_births_1994-2003_CDC_NCHS.csv')\n",
    "data1.head()"
   ]
  },
  {
   "cell_type": "code",
   "execution_count": 3,
   "metadata": {},
   "outputs": [
    {
     "data": {
      "text/html": [
       "<div>\n",
       "<table border=\"1\" class=\"dataframe\">\n",
       "  <thead>\n",
       "    <tr style=\"text-align: right;\">\n",
       "      <th></th>\n",
       "      <th>year</th>\n",
       "      <th>month</th>\n",
       "      <th>date_of_month</th>\n",
       "      <th>day_of_week</th>\n",
       "      <th>births</th>\n",
       "    </tr>\n",
       "  </thead>\n",
       "  <tbody>\n",
       "    <tr>\n",
       "      <th>count</th>\n",
       "      <td>3652.000000</td>\n",
       "      <td>3652.000000</td>\n",
       "      <td>3652.000000</td>\n",
       "      <td>3652.000000</td>\n",
       "      <td>3652.000000</td>\n",
       "    </tr>\n",
       "    <tr>\n",
       "      <th>mean</th>\n",
       "      <td>1998.499726</td>\n",
       "      <td>6.523549</td>\n",
       "      <td>15.727820</td>\n",
       "      <td>3.999726</td>\n",
       "      <td>10876.817360</td>\n",
       "    </tr>\n",
       "    <tr>\n",
       "      <th>std</th>\n",
       "      <td>2.872293</td>\n",
       "      <td>3.449005</td>\n",
       "      <td>8.800529</td>\n",
       "      <td>2.000753</td>\n",
       "      <td>1858.566631</td>\n",
       "    </tr>\n",
       "    <tr>\n",
       "      <th>min</th>\n",
       "      <td>1994.000000</td>\n",
       "      <td>1.000000</td>\n",
       "      <td>1.000000</td>\n",
       "      <td>1.000000</td>\n",
       "      <td>6443.000000</td>\n",
       "    </tr>\n",
       "    <tr>\n",
       "      <th>25%</th>\n",
       "      <td>1996.000000</td>\n",
       "      <td>4.000000</td>\n",
       "      <td>8.000000</td>\n",
       "      <td>2.000000</td>\n",
       "      <td>8844.500000</td>\n",
       "    </tr>\n",
       "    <tr>\n",
       "      <th>50%</th>\n",
       "      <td>1998.500000</td>\n",
       "      <td>7.000000</td>\n",
       "      <td>16.000000</td>\n",
       "      <td>4.000000</td>\n",
       "      <td>11615.000000</td>\n",
       "    </tr>\n",
       "    <tr>\n",
       "      <th>75%</th>\n",
       "      <td>2001.000000</td>\n",
       "      <td>10.000000</td>\n",
       "      <td>23.000000</td>\n",
       "      <td>6.000000</td>\n",
       "      <td>12274.250000</td>\n",
       "    </tr>\n",
       "    <tr>\n",
       "      <th>max</th>\n",
       "      <td>2003.000000</td>\n",
       "      <td>12.000000</td>\n",
       "      <td>31.000000</td>\n",
       "      <td>7.000000</td>\n",
       "      <td>14540.000000</td>\n",
       "    </tr>\n",
       "  </tbody>\n",
       "</table>\n",
       "</div>"
      ],
      "text/plain": [
       "              year        month  date_of_month  day_of_week        births\n",
       "count  3652.000000  3652.000000    3652.000000  3652.000000   3652.000000\n",
       "mean   1998.499726     6.523549      15.727820     3.999726  10876.817360\n",
       "std       2.872293     3.449005       8.800529     2.000753   1858.566631\n",
       "min    1994.000000     1.000000       1.000000     1.000000   6443.000000\n",
       "25%    1996.000000     4.000000       8.000000     2.000000   8844.500000\n",
       "50%    1998.500000     7.000000      16.000000     4.000000  11615.000000\n",
       "75%    2001.000000    10.000000      23.000000     6.000000  12274.250000\n",
       "max    2003.000000    12.000000      31.000000     7.000000  14540.000000"
      ]
     },
     "execution_count": 3,
     "metadata": {},
     "output_type": "execute_result"
    }
   ],
   "source": [
    "data1.describe()"
   ]
  },
  {
   "cell_type": "markdown",
   "metadata": {},
   "source": [
    "Read the second dataset:"
   ]
  },
  {
   "cell_type": "code",
   "execution_count": 4,
   "metadata": {},
   "outputs": [
    {
     "data": {
      "text/html": [
       "<div>\n",
       "<table border=\"1\" class=\"dataframe\">\n",
       "  <thead>\n",
       "    <tr style=\"text-align: right;\">\n",
       "      <th></th>\n",
       "      <th>year</th>\n",
       "      <th>month</th>\n",
       "      <th>date_of_month</th>\n",
       "      <th>day_of_week</th>\n",
       "      <th>births</th>\n",
       "    </tr>\n",
       "  </thead>\n",
       "  <tbody>\n",
       "    <tr>\n",
       "      <th>0</th>\n",
       "      <td>2000</td>\n",
       "      <td>1</td>\n",
       "      <td>1</td>\n",
       "      <td>6</td>\n",
       "      <td>9083</td>\n",
       "    </tr>\n",
       "    <tr>\n",
       "      <th>1</th>\n",
       "      <td>2000</td>\n",
       "      <td>1</td>\n",
       "      <td>2</td>\n",
       "      <td>7</td>\n",
       "      <td>8006</td>\n",
       "    </tr>\n",
       "    <tr>\n",
       "      <th>2</th>\n",
       "      <td>2000</td>\n",
       "      <td>1</td>\n",
       "      <td>3</td>\n",
       "      <td>1</td>\n",
       "      <td>11363</td>\n",
       "    </tr>\n",
       "    <tr>\n",
       "      <th>3</th>\n",
       "      <td>2000</td>\n",
       "      <td>1</td>\n",
       "      <td>4</td>\n",
       "      <td>2</td>\n",
       "      <td>13032</td>\n",
       "    </tr>\n",
       "    <tr>\n",
       "      <th>4</th>\n",
       "      <td>2000</td>\n",
       "      <td>1</td>\n",
       "      <td>5</td>\n",
       "      <td>3</td>\n",
       "      <td>12558</td>\n",
       "    </tr>\n",
       "  </tbody>\n",
       "</table>\n",
       "</div>"
      ],
      "text/plain": [
       "   year  month  date_of_month  day_of_week  births\n",
       "0  2000      1              1            6    9083\n",
       "1  2000      1              2            7    8006\n",
       "2  2000      1              3            1   11363\n",
       "3  2000      1              4            2   13032\n",
       "4  2000      1              5            3   12558"
      ]
     },
     "execution_count": 4,
     "metadata": {},
     "output_type": "execute_result"
    }
   ],
   "source": [
    "data2 = pd.read_csv('US_births_2000-2014_SSA.csv')\n",
    "data2.head()"
   ]
  },
  {
   "cell_type": "code",
   "execution_count": 5,
   "metadata": {},
   "outputs": [
    {
     "data": {
      "text/html": [
       "<div>\n",
       "<table border=\"1\" class=\"dataframe\">\n",
       "  <thead>\n",
       "    <tr style=\"text-align: right;\">\n",
       "      <th></th>\n",
       "      <th>year</th>\n",
       "      <th>month</th>\n",
       "      <th>date_of_month</th>\n",
       "      <th>day_of_week</th>\n",
       "      <th>births</th>\n",
       "    </tr>\n",
       "  </thead>\n",
       "  <tbody>\n",
       "    <tr>\n",
       "      <th>count</th>\n",
       "      <td>5479.000000</td>\n",
       "      <td>5479.000000</td>\n",
       "      <td>5479.000000</td>\n",
       "      <td>5479.000000</td>\n",
       "      <td>5479.000000</td>\n",
       "    </tr>\n",
       "    <tr>\n",
       "      <th>mean</th>\n",
       "      <td>2006.999270</td>\n",
       "      <td>6.522723</td>\n",
       "      <td>15.730243</td>\n",
       "      <td>3.999817</td>\n",
       "      <td>11350.068261</td>\n",
       "    </tr>\n",
       "    <tr>\n",
       "      <th>std</th>\n",
       "      <td>4.321085</td>\n",
       "      <td>3.449075</td>\n",
       "      <td>8.801151</td>\n",
       "      <td>2.000502</td>\n",
       "      <td>2325.821049</td>\n",
       "    </tr>\n",
       "    <tr>\n",
       "      <th>min</th>\n",
       "      <td>2000.000000</td>\n",
       "      <td>1.000000</td>\n",
       "      <td>1.000000</td>\n",
       "      <td>1.000000</td>\n",
       "      <td>5728.000000</td>\n",
       "    </tr>\n",
       "    <tr>\n",
       "      <th>25%</th>\n",
       "      <td>2003.000000</td>\n",
       "      <td>4.000000</td>\n",
       "      <td>8.000000</td>\n",
       "      <td>2.000000</td>\n",
       "      <td>8740.000000</td>\n",
       "    </tr>\n",
       "    <tr>\n",
       "      <th>50%</th>\n",
       "      <td>2007.000000</td>\n",
       "      <td>7.000000</td>\n",
       "      <td>16.000000</td>\n",
       "      <td>4.000000</td>\n",
       "      <td>12343.000000</td>\n",
       "    </tr>\n",
       "    <tr>\n",
       "      <th>75%</th>\n",
       "      <td>2011.000000</td>\n",
       "      <td>10.000000</td>\n",
       "      <td>23.000000</td>\n",
       "      <td>6.000000</td>\n",
       "      <td>13082.000000</td>\n",
       "    </tr>\n",
       "    <tr>\n",
       "      <th>max</th>\n",
       "      <td>2014.000000</td>\n",
       "      <td>12.000000</td>\n",
       "      <td>31.000000</td>\n",
       "      <td>7.000000</td>\n",
       "      <td>16081.000000</td>\n",
       "    </tr>\n",
       "  </tbody>\n",
       "</table>\n",
       "</div>"
      ],
      "text/plain": [
       "              year        month  date_of_month  day_of_week        births\n",
       "count  5479.000000  5479.000000    5479.000000  5479.000000   5479.000000\n",
       "mean   2006.999270     6.522723      15.730243     3.999817  11350.068261\n",
       "std       4.321085     3.449075       8.801151     2.000502   2325.821049\n",
       "min    2000.000000     1.000000       1.000000     1.000000   5728.000000\n",
       "25%    2003.000000     4.000000       8.000000     2.000000   8740.000000\n",
       "50%    2007.000000     7.000000      16.000000     4.000000  12343.000000\n",
       "75%    2011.000000    10.000000      23.000000     6.000000  13082.000000\n",
       "max    2014.000000    12.000000      31.000000     7.000000  16081.000000"
      ]
     },
     "execution_count": 5,
     "metadata": {},
     "output_type": "execute_result"
    }
   ],
   "source": [
    "data2.describe()"
   ]
  },
  {
   "cell_type": "markdown",
   "metadata": {},
   "source": [
    "Based on the two results above, we can see there are some overlap between these two datasets, which are the birth data from year 2000 to 2004. Before doing the analysis, we need to remove the duplicates to make the data clean. To achieve, I will drop the 2000-2003 data in table 2. "
   ]
  },
  {
   "cell_type": "markdown",
   "metadata": {},
   "source": [
    "To make this process easier, instead of removing the undesired data from the second dataset, I will directly choose the part of the data from it."
   ]
  },
  {
   "cell_type": "code",
   "execution_count": 6,
   "metadata": {},
   "outputs": [
    {
     "data": {
      "text/html": [
       "<div>\n",
       "<table border=\"1\" class=\"dataframe\">\n",
       "  <thead>\n",
       "    <tr style=\"text-align: right;\">\n",
       "      <th></th>\n",
       "      <th>year</th>\n",
       "      <th>month</th>\n",
       "      <th>date_of_month</th>\n",
       "      <th>day_of_week</th>\n",
       "      <th>births</th>\n",
       "    </tr>\n",
       "  </thead>\n",
       "  <tbody>\n",
       "    <tr>\n",
       "      <th>count</th>\n",
       "      <td>4018.000000</td>\n",
       "      <td>4018.000000</td>\n",
       "      <td>4018.000000</td>\n",
       "      <td>4018.000000</td>\n",
       "      <td>4018.000000</td>\n",
       "    </tr>\n",
       "    <tr>\n",
       "      <th>mean</th>\n",
       "      <td>2008.999253</td>\n",
       "      <td>6.522648</td>\n",
       "      <td>15.730463</td>\n",
       "      <td>4.000000</td>\n",
       "      <td>11364.880538</td>\n",
       "    </tr>\n",
       "    <tr>\n",
       "      <th>std</th>\n",
       "      <td>3.162868</td>\n",
       "      <td>3.449210</td>\n",
       "      <td>8.801536</td>\n",
       "      <td>2.000249</td>\n",
       "      <td>2399.338911</td>\n",
       "    </tr>\n",
       "    <tr>\n",
       "      <th>min</th>\n",
       "      <td>2004.000000</td>\n",
       "      <td>1.000000</td>\n",
       "      <td>1.000000</td>\n",
       "      <td>1.000000</td>\n",
       "      <td>5728.000000</td>\n",
       "    </tr>\n",
       "    <tr>\n",
       "      <th>25%</th>\n",
       "      <td>2006.000000</td>\n",
       "      <td>4.000000</td>\n",
       "      <td>8.000000</td>\n",
       "      <td>2.000000</td>\n",
       "      <td>8629.000000</td>\n",
       "    </tr>\n",
       "    <tr>\n",
       "      <th>50%</th>\n",
       "      <td>2009.000000</td>\n",
       "      <td>7.000000</td>\n",
       "      <td>16.000000</td>\n",
       "      <td>4.000000</td>\n",
       "      <td>12362.500000</td>\n",
       "    </tr>\n",
       "    <tr>\n",
       "      <th>75%</th>\n",
       "      <td>2012.000000</td>\n",
       "      <td>10.000000</td>\n",
       "      <td>23.000000</td>\n",
       "      <td>6.000000</td>\n",
       "      <td>13158.750000</td>\n",
       "    </tr>\n",
       "    <tr>\n",
       "      <th>max</th>\n",
       "      <td>2014.000000</td>\n",
       "      <td>12.000000</td>\n",
       "      <td>31.000000</td>\n",
       "      <td>7.000000</td>\n",
       "      <td>16081.000000</td>\n",
       "    </tr>\n",
       "  </tbody>\n",
       "</table>\n",
       "</div>"
      ],
      "text/plain": [
       "              year        month  date_of_month  day_of_week        births\n",
       "count  4018.000000  4018.000000    4018.000000  4018.000000   4018.000000\n",
       "mean   2008.999253     6.522648      15.730463     4.000000  11364.880538\n",
       "std       3.162868     3.449210       8.801536     2.000249   2399.338911\n",
       "min    2004.000000     1.000000       1.000000     1.000000   5728.000000\n",
       "25%    2006.000000     4.000000       8.000000     2.000000   8629.000000\n",
       "50%    2009.000000     7.000000      16.000000     4.000000  12362.500000\n",
       "75%    2012.000000    10.000000      23.000000     6.000000  13158.750000\n",
       "max    2014.000000    12.000000      31.000000     7.000000  16081.000000"
      ]
     },
     "execution_count": 6,
     "metadata": {},
     "output_type": "execute_result"
    }
   ],
   "source": [
    "year_2004 = min(list(data2[data2['year'] == 2004].index))\n",
    "data2 = data2.loc[year_2004:]\n",
    "data2.describe()"
   ]
  },
  {
   "cell_type": "markdown",
   "metadata": {},
   "source": [
    "After extract the table 2 data I want, I can concatenate the two datasets together."
   ]
  },
  {
   "cell_type": "code",
   "execution_count": 7,
   "metadata": {},
   "outputs": [
    {
     "data": {
      "text/html": [
       "<div>\n",
       "<table border=\"1\" class=\"dataframe\">\n",
       "  <thead>\n",
       "    <tr style=\"text-align: right;\">\n",
       "      <th></th>\n",
       "      <th>year</th>\n",
       "      <th>month</th>\n",
       "      <th>date_of_month</th>\n",
       "      <th>day_of_week</th>\n",
       "      <th>births</th>\n",
       "    </tr>\n",
       "  </thead>\n",
       "  <tbody>\n",
       "    <tr>\n",
       "      <th>0</th>\n",
       "      <td>1994</td>\n",
       "      <td>1</td>\n",
       "      <td>1</td>\n",
       "      <td>6</td>\n",
       "      <td>8096</td>\n",
       "    </tr>\n",
       "    <tr>\n",
       "      <th>1</th>\n",
       "      <td>1994</td>\n",
       "      <td>1</td>\n",
       "      <td>2</td>\n",
       "      <td>7</td>\n",
       "      <td>7772</td>\n",
       "    </tr>\n",
       "    <tr>\n",
       "      <th>2</th>\n",
       "      <td>1994</td>\n",
       "      <td>1</td>\n",
       "      <td>3</td>\n",
       "      <td>1</td>\n",
       "      <td>10142</td>\n",
       "    </tr>\n",
       "    <tr>\n",
       "      <th>3</th>\n",
       "      <td>1994</td>\n",
       "      <td>1</td>\n",
       "      <td>4</td>\n",
       "      <td>2</td>\n",
       "      <td>11248</td>\n",
       "    </tr>\n",
       "    <tr>\n",
       "      <th>4</th>\n",
       "      <td>1994</td>\n",
       "      <td>1</td>\n",
       "      <td>5</td>\n",
       "      <td>3</td>\n",
       "      <td>11053</td>\n",
       "    </tr>\n",
       "  </tbody>\n",
       "</table>\n",
       "</div>"
      ],
      "text/plain": [
       "   year  month  date_of_month  day_of_week  births\n",
       "0  1994      1              1            6    8096\n",
       "1  1994      1              2            7    7772\n",
       "2  1994      1              3            1   10142\n",
       "3  1994      1              4            2   11248\n",
       "4  1994      1              5            3   11053"
      ]
     },
     "execution_count": 7,
     "metadata": {},
     "output_type": "execute_result"
    }
   ],
   "source": [
    "data = pd.concat([data1, data2], join = 'outer', ignore_index = True)\n",
    "data.head()"
   ]
  },
  {
   "cell_type": "code",
   "execution_count": 8,
   "metadata": {},
   "outputs": [
    {
     "data": {
      "text/html": [
       "<div>\n",
       "<table border=\"1\" class=\"dataframe\">\n",
       "  <thead>\n",
       "    <tr style=\"text-align: right;\">\n",
       "      <th></th>\n",
       "      <th>year</th>\n",
       "      <th>month</th>\n",
       "      <th>date_of_month</th>\n",
       "      <th>day_of_week</th>\n",
       "      <th>births</th>\n",
       "    </tr>\n",
       "  </thead>\n",
       "  <tbody>\n",
       "    <tr>\n",
       "      <th>count</th>\n",
       "      <td>7670.000000</td>\n",
       "      <td>7670.000000</td>\n",
       "      <td>7670.000000</td>\n",
       "      <td>7670.000000</td>\n",
       "      <td>7670.000000</td>\n",
       "    </tr>\n",
       "    <tr>\n",
       "      <th>mean</th>\n",
       "      <td>2004.000000</td>\n",
       "      <td>6.523077</td>\n",
       "      <td>15.729205</td>\n",
       "      <td>3.999870</td>\n",
       "      <td>11132.493742</td>\n",
       "    </tr>\n",
       "    <tr>\n",
       "      <th>std</th>\n",
       "      <td>6.055444</td>\n",
       "      <td>3.448888</td>\n",
       "      <td>8.800483</td>\n",
       "      <td>2.000359</td>\n",
       "      <td>2172.398653</td>\n",
       "    </tr>\n",
       "    <tr>\n",
       "      <th>min</th>\n",
       "      <td>1994.000000</td>\n",
       "      <td>1.000000</td>\n",
       "      <td>1.000000</td>\n",
       "      <td>1.000000</td>\n",
       "      <td>5728.000000</td>\n",
       "    </tr>\n",
       "    <tr>\n",
       "      <th>25%</th>\n",
       "      <td>1999.000000</td>\n",
       "      <td>4.000000</td>\n",
       "      <td>8.000000</td>\n",
       "      <td>2.000000</td>\n",
       "      <td>8759.000000</td>\n",
       "    </tr>\n",
       "    <tr>\n",
       "      <th>50%</th>\n",
       "      <td>2004.000000</td>\n",
       "      <td>7.000000</td>\n",
       "      <td>16.000000</td>\n",
       "      <td>4.000000</td>\n",
       "      <td>11941.000000</td>\n",
       "    </tr>\n",
       "    <tr>\n",
       "      <th>75%</th>\n",
       "      <td>2009.000000</td>\n",
       "      <td>10.000000</td>\n",
       "      <td>23.000000</td>\n",
       "      <td>6.000000</td>\n",
       "      <td>12754.750000</td>\n",
       "    </tr>\n",
       "    <tr>\n",
       "      <th>max</th>\n",
       "      <td>2014.000000</td>\n",
       "      <td>12.000000</td>\n",
       "      <td>31.000000</td>\n",
       "      <td>7.000000</td>\n",
       "      <td>16081.000000</td>\n",
       "    </tr>\n",
       "  </tbody>\n",
       "</table>\n",
       "</div>"
      ],
      "text/plain": [
       "              year        month  date_of_month  day_of_week        births\n",
       "count  7670.000000  7670.000000    7670.000000  7670.000000   7670.000000\n",
       "mean   2004.000000     6.523077      15.729205     3.999870  11132.493742\n",
       "std       6.055444     3.448888       8.800483     2.000359   2172.398653\n",
       "min    1994.000000     1.000000       1.000000     1.000000   5728.000000\n",
       "25%    1999.000000     4.000000       8.000000     2.000000   8759.000000\n",
       "50%    2004.000000     7.000000      16.000000     4.000000  11941.000000\n",
       "75%    2009.000000    10.000000      23.000000     6.000000  12754.750000\n",
       "max    2014.000000    12.000000      31.000000     7.000000  16081.000000"
      ]
     },
     "execution_count": 8,
     "metadata": {},
     "output_type": "execute_result"
    }
   ],
   "source": [
    "data.describe()"
   ]
  },
  {
   "cell_type": "markdown",
   "metadata": {},
   "source": [
    "Before doing any analysis, I need to make sure the datasets are clean, and doesn't have null value within the data."
   ]
  },
  {
   "cell_type": "code",
   "execution_count": 9,
   "metadata": {},
   "outputs": [
    {
     "data": {
      "text/plain": [
       "year             False\n",
       "month            False\n",
       "date_of_month    False\n",
       "day_of_week      False\n",
       "births           False\n",
       "dtype: bool"
      ]
     },
     "execution_count": 9,
     "metadata": {},
     "output_type": "execute_result"
    }
   ],
   "source": [
    "data.isnull().any()"
   ]
  },
  {
   "cell_type": "markdown",
   "metadata": {},
   "source": [
    "Since the dataset is clean, I can start to figure out the questions I have. The first one to answer is which year has a bigher birth rate than the other."
   ]
  },
  {
   "cell_type": "markdown",
   "metadata": {},
   "source": [
    "To answer this question, two steps need to be done. First is to calculate the total number of birth each year."
   ]
  },
  {
   "cell_type": "code",
   "execution_count": 10,
   "metadata": {},
   "outputs": [
    {
     "data": {
      "text/plain": [
       "year\n",
       "1997    3880894\n",
       "1996    3891494\n",
       "1995    3899589\n",
       "1998    3941553\n",
       "1994    3952767\n",
       "1999    3959417\n",
       "2013    3973337\n",
       "2012    4000868\n",
       "2011    4006908\n",
       "2014    4010532\n",
       "2002    4021726\n",
       "2001    4025933\n",
       "2010    4055975\n",
       "2000    4058814\n",
       "2003    4089950\n",
       "2004    4186863\n",
       "2009    4190991\n",
       "2005    4211941\n",
       "2008    4310737\n",
       "2006    4335154\n",
       "2007    4380784\n",
       "Name: births, dtype: int64"
      ]
     },
     "execution_count": 10,
     "metadata": {},
     "output_type": "execute_result"
    }
   ],
   "source": [
    "birth_total = data.pivot_table(index = 'year', values = 'births', aggfunc = 'sum')\n",
    "birth_total.sort_values()"
   ]
  },
  {
   "cell_type": "markdown",
   "metadata": {},
   "source": [
    "Second is to rank them, and find out the top three."
   ]
  },
  {
   "cell_type": "code",
   "execution_count": 11,
   "metadata": {},
   "outputs": [
    {
     "data": {
      "text/plain": [
       "year\n",
       "1994    17.0\n",
       "1995    19.0\n",
       "1996    20.0\n",
       "1997    21.0\n",
       "1998    18.0\n",
       "1999    16.0\n",
       "2000     8.0\n",
       "2001    10.0\n",
       "2002    11.0\n",
       "2003     7.0\n",
       "2004     6.0\n",
       "2005     4.0\n",
       "2006     2.0\n",
       "2007     1.0\n",
       "2008     3.0\n",
       "2009     5.0\n",
       "2010     9.0\n",
       "2011    13.0\n",
       "2012    14.0\n",
       "2013    15.0\n",
       "2014    12.0\n",
       "Name: births, dtype: float64"
      ]
     },
     "execution_count": 11,
     "metadata": {},
     "output_type": "execute_result"
    }
   ],
   "source": [
    "# Find the index of top three rank\n",
    "\n",
    "birth_total.rank(ascending = False)"
   ]
  },
  {
   "cell_type": "code",
   "execution_count": 12,
   "metadata": {},
   "outputs": [
    {
     "name": "stdout",
     "output_type": "stream",
     "text": [
      "13\n",
      "12\n",
      "14\n"
     ]
    }
   ],
   "source": [
    "print(birth_total.index.get_loc(2007))\n",
    "print(birth_total.index.get_loc(2006))\n",
    "print(birth_total.index.get_loc(2008))"
   ]
  },
  {
   "cell_type": "markdown",
   "metadata": {},
   "source": [
    "After getting the highest three years, it is time to draw a plot to visualize it. I also want to highlight the three years that have highest birth rate."
   ]
  },
  {
   "cell_type": "code",
   "execution_count": 13,
   "metadata": {},
   "outputs": [
    {
     "data": {
      "image/png": "[encoded data removed]",
      "text/plain": [
       "<matplotlib.figure.Figure at 0x10f12eda0>"
      ]
     },
     "metadata": {},
     "output_type": "display_data"
    }
   ],
   "source": [
    "fig, ax = plt.subplots(1, 1)\n",
    "ax = birth_total.sort_index().plot(kind = 'bar', legend = None, title = 'Total Birth per year', color = 'darkgrey')\n",
    "\n",
    "ax.tick_params(bottom = 'off', top = 'off', left = 'off', right = 'off')\n",
    "ax.spines['right'].set_visible(False)\n",
    "ax.spines['left'].set_visible(False)\n",
    "ax.spines['top'].set_visible(False)\n",
    "ax.set_ylabel('Total Birth')\n",
    "\n",
    "for item in ax.containers:\n",
    "    item[12].set_color('r')\n",
    "    item[13].set_color('r')\n",
    "    item[14].set_color('r')"
   ]
  },
  {
   "cell_type": "markdown",
   "metadata": {},
   "source": [
    "We can apply similar procedure to find out which month has a higher birth rate than the others."
   ]
  },
  {
   "cell_type": "code",
   "execution_count": 14,
   "metadata": {},
   "outputs": [
    {
     "data": {
      "text/html": [
       "<div>\n",
       "<table border=\"1\" class=\"dataframe\">\n",
       "  <thead>\n",
       "    <tr style=\"text-align: right;\">\n",
       "      <th>date_of_month</th>\n",
       "      <th>1</th>\n",
       "      <th>2</th>\n",
       "      <th>3</th>\n",
       "      <th>4</th>\n",
       "      <th>5</th>\n",
       "      <th>6</th>\n",
       "      <th>7</th>\n",
       "      <th>8</th>\n",
       "      <th>9</th>\n",
       "      <th>10</th>\n",
       "      <th>...</th>\n",
       "      <th>23</th>\n",
       "      <th>24</th>\n",
       "      <th>25</th>\n",
       "      <th>26</th>\n",
       "      <th>27</th>\n",
       "      <th>28</th>\n",
       "      <th>29</th>\n",
       "      <th>30</th>\n",
       "      <th>31</th>\n",
       "      <th>All</th>\n",
       "    </tr>\n",
       "    <tr>\n",
       "      <th>month</th>\n",
       "      <th></th>\n",
       "      <th></th>\n",
       "      <th></th>\n",
       "      <th></th>\n",
       "      <th></th>\n",
       "      <th></th>\n",
       "      <th></th>\n",
       "      <th></th>\n",
       "      <th></th>\n",
       "      <th></th>\n",
       "      <th></th>\n",
       "      <th></th>\n",
       "      <th></th>\n",
       "      <th></th>\n",
       "      <th></th>\n",
       "      <th></th>\n",
       "      <th></th>\n",
       "      <th></th>\n",
       "      <th></th>\n",
       "      <th></th>\n",
       "      <th></th>\n",
       "    </tr>\n",
       "  </thead>\n",
       "  <tbody>\n",
       "    <tr>\n",
       "      <th>1</th>\n",
       "      <td>163634.0</td>\n",
       "      <td>195438.0</td>\n",
       "      <td>227065.0</td>\n",
       "      <td>231393.0</td>\n",
       "      <td>230016.0</td>\n",
       "      <td>229123.0</td>\n",
       "      <td>229425.0</td>\n",
       "      <td>222812.0</td>\n",
       "      <td>223106.0</td>\n",
       "      <td>231484.0</td>\n",
       "      <td>...</td>\n",
       "      <td>228174.0</td>\n",
       "      <td>232027.0</td>\n",
       "      <td>229963.0</td>\n",
       "      <td>227708.0</td>\n",
       "      <td>227275.0</td>\n",
       "      <td>227537.0</td>\n",
       "      <td>221916.0</td>\n",
       "      <td>225786.0</td>\n",
       "      <td>228541.0</td>\n",
       "      <td>6951352.0</td>\n",
       "    </tr>\n",
       "    <tr>\n",
       "      <th>2</th>\n",
       "      <td>229502.0</td>\n",
       "      <td>229927.0</td>\n",
       "      <td>227696.0</td>\n",
       "      <td>229003.0</td>\n",
       "      <td>224376.0</td>\n",
       "      <td>226671.0</td>\n",
       "      <td>234124.0</td>\n",
       "      <td>232320.0</td>\n",
       "      <td>228750.0</td>\n",
       "      <td>231315.0</td>\n",
       "      <td>...</td>\n",
       "      <td>229461.0</td>\n",
       "      <td>228982.0</td>\n",
       "      <td>230449.0</td>\n",
       "      <td>225264.0</td>\n",
       "      <td>228012.0</td>\n",
       "      <td>232119.0</td>\n",
       "      <td>52311.0</td>\n",
       "      <td>NaN</td>\n",
       "      <td>NaN</td>\n",
       "      <td>6487269.0</td>\n",
       "    </tr>\n",
       "    <tr>\n",
       "      <th>3</th>\n",
       "      <td>233702.0</td>\n",
       "      <td>226838.0</td>\n",
       "      <td>232551.0</td>\n",
       "      <td>230771.0</td>\n",
       "      <td>230562.0</td>\n",
       "      <td>229342.0</td>\n",
       "      <td>232836.0</td>\n",
       "      <td>230499.0</td>\n",
       "      <td>226059.0</td>\n",
       "      <td>229743.0</td>\n",
       "      <td>...</td>\n",
       "      <td>225526.0</td>\n",
       "      <td>229350.0</td>\n",
       "      <td>230461.0</td>\n",
       "      <td>228655.0</td>\n",
       "      <td>228787.0</td>\n",
       "      <td>231949.0</td>\n",
       "      <td>228324.0</td>\n",
       "      <td>224988.0</td>\n",
       "      <td>226352.0</td>\n",
       "      <td>7121938.0</td>\n",
       "    </tr>\n",
       "    <tr>\n",
       "      <th>4</th>\n",
       "      <td>216297.0</td>\n",
       "      <td>231094.0</td>\n",
       "      <td>228874.0</td>\n",
       "      <td>235599.0</td>\n",
       "      <td>228895.0</td>\n",
       "      <td>223412.0</td>\n",
       "      <td>228038.0</td>\n",
       "      <td>228696.0</td>\n",
       "      <td>227434.0</td>\n",
       "      <td>227349.0</td>\n",
       "      <td>...</td>\n",
       "      <td>228139.0</td>\n",
       "      <td>227737.0</td>\n",
       "      <td>230918.0</td>\n",
       "      <td>228525.0</td>\n",
       "      <td>223953.0</td>\n",
       "      <td>226855.0</td>\n",
       "      <td>225430.0</td>\n",
       "      <td>225342.0</td>\n",
       "      <td>NaN</td>\n",
       "      <td>6826843.0</td>\n",
       "    </tr>\n",
       "    <tr>\n",
       "      <th>5</th>\n",
       "      <td>231037.0</td>\n",
       "      <td>233369.0</td>\n",
       "      <td>228967.0</td>\n",
       "      <td>225057.0</td>\n",
       "      <td>232524.0</td>\n",
       "      <td>229937.0</td>\n",
       "      <td>229852.0</td>\n",
       "      <td>230055.0</td>\n",
       "      <td>231850.0</td>\n",
       "      <td>232501.0</td>\n",
       "      <td>...</td>\n",
       "      <td>242023.0</td>\n",
       "      <td>238704.0</td>\n",
       "      <td>227365.0</td>\n",
       "      <td>218411.0</td>\n",
       "      <td>224560.0</td>\n",
       "      <td>226743.0</td>\n",
       "      <td>226412.0</td>\n",
       "      <td>228918.0</td>\n",
       "      <td>225099.0</td>\n",
       "      <td>7150547.0</td>\n",
       "    </tr>\n",
       "    <tr>\n",
       "      <th>6</th>\n",
       "      <td>234440.0</td>\n",
       "      <td>238251.0</td>\n",
       "      <td>236376.0</td>\n",
       "      <td>235649.0</td>\n",
       "      <td>234446.0</td>\n",
       "      <td>236038.0</td>\n",
       "      <td>234361.0</td>\n",
       "      <td>231515.0</td>\n",
       "      <td>232749.0</td>\n",
       "      <td>235672.0</td>\n",
       "      <td>...</td>\n",
       "      <td>236121.0</td>\n",
       "      <td>237892.0</td>\n",
       "      <td>239533.0</td>\n",
       "      <td>238861.0</td>\n",
       "      <td>243399.0</td>\n",
       "      <td>242688.0</td>\n",
       "      <td>238372.0</td>\n",
       "      <td>242491.0</td>\n",
       "      <td>NaN</td>\n",
       "      <td>7098069.0</td>\n",
       "    </tr>\n",
       "    <tr>\n",
       "      <th>7</th>\n",
       "      <td>249059.0</td>\n",
       "      <td>248396.0</td>\n",
       "      <td>237377.0</td>\n",
       "      <td>184726.0</td>\n",
       "      <td>218494.0</td>\n",
       "      <td>241224.0</td>\n",
       "      <td>254269.0</td>\n",
       "      <td>250820.0</td>\n",
       "      <td>247140.0</td>\n",
       "      <td>246494.0</td>\n",
       "      <td>...</td>\n",
       "      <td>245670.0</td>\n",
       "      <td>243751.0</td>\n",
       "      <td>247122.0</td>\n",
       "      <td>243208.0</td>\n",
       "      <td>239616.0</td>\n",
       "      <td>243887.0</td>\n",
       "      <td>243449.0</td>\n",
       "      <td>243585.0</td>\n",
       "      <td>241831.0</td>\n",
       "      <td>7500795.0</td>\n",
       "    </tr>\n",
       "    <tr>\n",
       "      <th>8</th>\n",
       "      <td>247265.0</td>\n",
       "      <td>243185.0</td>\n",
       "      <td>237974.0</td>\n",
       "      <td>242941.0</td>\n",
       "      <td>243819.0</td>\n",
       "      <td>243313.0</td>\n",
       "      <td>243374.0</td>\n",
       "      <td>250965.0</td>\n",
       "      <td>246144.0</td>\n",
       "      <td>241304.0</td>\n",
       "      <td>...</td>\n",
       "      <td>244764.0</td>\n",
       "      <td>240490.0</td>\n",
       "      <td>243093.0</td>\n",
       "      <td>244010.0</td>\n",
       "      <td>246487.0</td>\n",
       "      <td>248946.0</td>\n",
       "      <td>250412.0</td>\n",
       "      <td>247801.0</td>\n",
       "      <td>242658.0</td>\n",
       "      <td>7595922.0</td>\n",
       "    </tr>\n",
       "    <tr>\n",
       "      <th>9</th>\n",
       "      <td>229527.0</td>\n",
       "      <td>230998.0</td>\n",
       "      <td>233495.0</td>\n",
       "      <td>235544.0</td>\n",
       "      <td>240059.0</td>\n",
       "      <td>237162.0</td>\n",
       "      <td>239353.0</td>\n",
       "      <td>251822.0</td>\n",
       "      <td>258312.0</td>\n",
       "      <td>254993.0</td>\n",
       "      <td>...</td>\n",
       "      <td>251447.0</td>\n",
       "      <td>250850.0</td>\n",
       "      <td>249194.0</td>\n",
       "      <td>251850.0</td>\n",
       "      <td>249076.0</td>\n",
       "      <td>242638.0</td>\n",
       "      <td>243005.0</td>\n",
       "      <td>241263.0</td>\n",
       "      <td>NaN</td>\n",
       "      <td>7411299.0</td>\n",
       "    </tr>\n",
       "    <tr>\n",
       "      <th>10</th>\n",
       "      <td>246117.0</td>\n",
       "      <td>243016.0</td>\n",
       "      <td>245150.0</td>\n",
       "      <td>241291.0</td>\n",
       "      <td>236722.0</td>\n",
       "      <td>238031.0</td>\n",
       "      <td>237810.0</td>\n",
       "      <td>237484.0</td>\n",
       "      <td>233871.0</td>\n",
       "      <td>242667.0</td>\n",
       "      <td>...</td>\n",
       "      <td>231965.0</td>\n",
       "      <td>236786.0</td>\n",
       "      <td>234839.0</td>\n",
       "      <td>229488.0</td>\n",
       "      <td>231665.0</td>\n",
       "      <td>233137.0</td>\n",
       "      <td>231252.0</td>\n",
       "      <td>227125.0</td>\n",
       "      <td>209533.0</td>\n",
       "      <td>7264087.0</td>\n",
       "    </tr>\n",
       "    <tr>\n",
       "      <th>11</th>\n",
       "      <td>238346.0</td>\n",
       "      <td>232695.0</td>\n",
       "      <td>233739.0</td>\n",
       "      <td>233699.0</td>\n",
       "      <td>235021.0</td>\n",
       "      <td>232703.0</td>\n",
       "      <td>237463.0</td>\n",
       "      <td>234778.0</td>\n",
       "      <td>229458.0</td>\n",
       "      <td>231827.0</td>\n",
       "      <td>...</td>\n",
       "      <td>207536.0</td>\n",
       "      <td>210311.0</td>\n",
       "      <td>209033.0</td>\n",
       "      <td>210929.0</td>\n",
       "      <td>204086.0</td>\n",
       "      <td>212023.0</td>\n",
       "      <td>226050.0</td>\n",
       "      <td>227963.0</td>\n",
       "      <td>NaN</td>\n",
       "      <td>6854860.0</td>\n",
       "    </tr>\n",
       "    <tr>\n",
       "      <th>12</th>\n",
       "      <td>236261.0</td>\n",
       "      <td>234831.0</td>\n",
       "      <td>233973.0</td>\n",
       "      <td>230609.0</td>\n",
       "      <td>233762.0</td>\n",
       "      <td>230124.0</td>\n",
       "      <td>225555.0</td>\n",
       "      <td>228743.0</td>\n",
       "      <td>227824.0</td>\n",
       "      <td>229970.0</td>\n",
       "      <td>...</td>\n",
       "      <td>217096.0</td>\n",
       "      <td>169440.0</td>\n",
       "      <td>138054.0</td>\n",
       "      <td>200395.0</td>\n",
       "      <td>244974.0</td>\n",
       "      <td>248957.0</td>\n",
       "      <td>251066.0</td>\n",
       "      <td>249674.0</td>\n",
       "      <td>218267.0</td>\n",
       "      <td>7123246.0</td>\n",
       "    </tr>\n",
       "    <tr>\n",
       "      <th>All</th>\n",
       "      <td>2755187.0</td>\n",
       "      <td>2788038.0</td>\n",
       "      <td>2803237.0</td>\n",
       "      <td>2756282.0</td>\n",
       "      <td>2788696.0</td>\n",
       "      <td>2797080.0</td>\n",
       "      <td>2826460.0</td>\n",
       "      <td>2830509.0</td>\n",
       "      <td>2812697.0</td>\n",
       "      <td>2835319.0</td>\n",
       "      <td>...</td>\n",
       "      <td>2787922.0</td>\n",
       "      <td>2746320.0</td>\n",
       "      <td>2710024.0</td>\n",
       "      <td>2747304.0</td>\n",
       "      <td>2791890.0</td>\n",
       "      <td>2817479.0</td>\n",
       "      <td>2637999.0</td>\n",
       "      <td>2584936.0</td>\n",
       "      <td>1592281.0</td>\n",
       "      <td>85386227.0</td>\n",
       "    </tr>\n",
       "  </tbody>\n",
       "</table>\n",
       "<p>13 rows × 32 columns</p>\n",
       "</div>"
      ],
      "text/plain": [
       "date_of_month          1          2          3          4          5  \\\n",
       "month                                                                  \n",
       "1               163634.0   195438.0   227065.0   231393.0   230016.0   \n",
       "2               229502.0   229927.0   227696.0   229003.0   224376.0   \n",
       "3               233702.0   226838.0   232551.0   230771.0   230562.0   \n",
       "4               216297.0   231094.0   228874.0   235599.0   228895.0   \n",
       "5               231037.0   233369.0   228967.0   225057.0   232524.0   \n",
       "6               234440.0   238251.0   236376.0   235649.0   234446.0   \n",
       "7               249059.0   248396.0   237377.0   184726.0   218494.0   \n",
       "8               247265.0   243185.0   237974.0   242941.0   243819.0   \n",
       "9               229527.0   230998.0   233495.0   235544.0   240059.0   \n",
       "10              246117.0   243016.0   245150.0   241291.0   236722.0   \n",
       "11              238346.0   232695.0   233739.0   233699.0   235021.0   \n",
       "12              236261.0   234831.0   233973.0   230609.0   233762.0   \n",
       "All            2755187.0  2788038.0  2803237.0  2756282.0  2788696.0   \n",
       "\n",
       "date_of_month          6          7          8          9         10  \\\n",
       "month                                                                  \n",
       "1               229123.0   229425.0   222812.0   223106.0   231484.0   \n",
       "2               226671.0   234124.0   232320.0   228750.0   231315.0   \n",
       "3               229342.0   232836.0   230499.0   226059.0   229743.0   \n",
       "4               223412.0   228038.0   228696.0   227434.0   227349.0   \n",
       "5               229937.0   229852.0   230055.0   231850.0   232501.0   \n",
       "6               236038.0   234361.0   231515.0   232749.0   235672.0   \n",
       "7               241224.0   254269.0   250820.0   247140.0   246494.0   \n",
       "8               243313.0   243374.0   250965.0   246144.0   241304.0   \n",
       "9               237162.0   239353.0   251822.0   258312.0   254993.0   \n",
       "10              238031.0   237810.0   237484.0   233871.0   242667.0   \n",
       "11              232703.0   237463.0   234778.0   229458.0   231827.0   \n",
       "12              230124.0   225555.0   228743.0   227824.0   229970.0   \n",
       "All            2797080.0  2826460.0  2830509.0  2812697.0  2835319.0   \n",
       "\n",
       "date_of_month     ...             23         24         25         26  \\\n",
       "month             ...                                                   \n",
       "1                 ...       228174.0   232027.0   229963.0   227708.0   \n",
       "2                 ...       229461.0   228982.0   230449.0   225264.0   \n",
       "3                 ...       225526.0   229350.0   230461.0   228655.0   \n",
       "4                 ...       228139.0   227737.0   230918.0   228525.0   \n",
       "5                 ...       242023.0   238704.0   227365.0   218411.0   \n",
       "6                 ...       236121.0   237892.0   239533.0   238861.0   \n",
       "7                 ...       245670.0   243751.0   247122.0   243208.0   \n",
       "8                 ...       244764.0   240490.0   243093.0   244010.0   \n",
       "9                 ...       251447.0   250850.0   249194.0   251850.0   \n",
       "10                ...       231965.0   236786.0   234839.0   229488.0   \n",
       "11                ...       207536.0   210311.0   209033.0   210929.0   \n",
       "12                ...       217096.0   169440.0   138054.0   200395.0   \n",
       "All               ...      2787922.0  2746320.0  2710024.0  2747304.0   \n",
       "\n",
       "date_of_month         27         28         29         30         31  \\\n",
       "month                                                                  \n",
       "1               227275.0   227537.0   221916.0   225786.0   228541.0   \n",
       "2               228012.0   232119.0    52311.0        NaN        NaN   \n",
       "3               228787.0   231949.0   228324.0   224988.0   226352.0   \n",
       "4               223953.0   226855.0   225430.0   225342.0        NaN   \n",
       "5               224560.0   226743.0   226412.0   228918.0   225099.0   \n",
       "6               243399.0   242688.0   238372.0   242491.0        NaN   \n",
       "7               239616.0   243887.0   243449.0   243585.0   241831.0   \n",
       "8               246487.0   248946.0   250412.0   247801.0   242658.0   \n",
       "9               249076.0   242638.0   243005.0   241263.0        NaN   \n",
       "10              231665.0   233137.0   231252.0   227125.0   209533.0   \n",
       "11              204086.0   212023.0   226050.0   227963.0        NaN   \n",
       "12              244974.0   248957.0   251066.0   249674.0   218267.0   \n",
       "All            2791890.0  2817479.0  2637999.0  2584936.0  1592281.0   \n",
       "\n",
       "date_of_month         All  \n",
       "month                      \n",
       "1               6951352.0  \n",
       "2               6487269.0  \n",
       "3               7121938.0  \n",
       "4               6826843.0  \n",
       "5               7150547.0  \n",
       "6               7098069.0  \n",
       "7               7500795.0  \n",
       "8               7595922.0  \n",
       "9               7411299.0  \n",
       "10              7264087.0  \n",
       "11              6854860.0  \n",
       "12              7123246.0  \n",
       "All            85386227.0  \n",
       "\n",
       "[13 rows x 32 columns]"
      ]
     },
     "execution_count": 14,
     "metadata": {},
     "output_type": "execute_result"
    }
   ],
   "source": [
    "monthly_birth = data.pivot_table(index = 'month', values = 'births', columns = 'date_of_month', aggfunc = 'sum', margins = True)\n",
    "monthly_birth"
   ]
  },
  {
   "cell_type": "markdown",
   "metadata": {},
   "source": [
    "After grouping the datasets by month, I can rank it to find the month that has highest birth rate."
   ]
  },
  {
   "cell_type": "code",
   "execution_count": 15,
   "metadata": {},
   "outputs": [
    {
     "data": {
      "text/plain": [
       "month\n",
       "2     6487269.0\n",
       "4     6826843.0\n",
       "11    6854860.0\n",
       "1     6951352.0\n",
       "6     7098069.0\n",
       "3     7121938.0\n",
       "12    7123246.0\n",
       "5     7150547.0\n",
       "10    7264087.0\n",
       "9     7411299.0\n",
       "7     7500795.0\n",
       "8     7595922.0\n",
       "Name: All, dtype: float64"
      ]
     },
     "execution_count": 15,
     "metadata": {},
     "output_type": "execute_result"
    }
   ],
   "source": [
    "monthly_birth['All'][:-1].sort_values()"
   ]
  },
  {
   "cell_type": "markdown",
   "metadata": {},
   "source": [
    "It is time to draw the plot to visualize the montly birth rate. "
   ]
  },
  {
   "cell_type": "code",
   "execution_count": 16,
   "metadata": {},
   "outputs": [
    {
     "data": {
      "text/plain": [
       "<matplotlib.text.Text at 0x10f26c780>"
      ]
     },
     "execution_count": 16,
     "metadata": {},
     "output_type": "execute_result"
    },
    {
     "data": {
      "image/png": "[encoded data removed]",
      "text/plain": [
       "<matplotlib.figure.Figure at 0x10f34e780>"
      ]
     },
     "metadata": {},
     "output_type": "display_data"
    }
   ],
   "source": [
    "colors = ['b', 'b', 'b', 'b', 'b', 'b', 'r', 'r', 'r', 'b', 'b', 'b']\n",
    "my_plot = monthly_birth['All'][:-1].plot(kind = 'bar', legend = None, title = 'Total Birth per Month', color = colors)\n",
    "my_plot.tick_params(top = 'off', bottom = 'off', left = 'off', right = 'off')\n",
    "my_plot.spines['right'].set_visible(False)\n",
    "my_plot.spines['left'].set_visible(False)\n",
    "my_plot.spines['top'].set_visible(False)\n",
    "my_plot.set_ylabel('Total Birth')"
   ]
  },
  {
   "cell_type": "markdown",
   "metadata": {},
   "source": [
    "Since I am interested in figuring out which zodiacs has most people, I will need to first build a zodiacs list, and write a function to get the zodiacs."
   ]
  },
  {
   "cell_type": "code",
   "execution_count": 17,
   "metadata": {
    "collapsed": true
   },
   "outputs": [],
   "source": [
    "zodiacs_list = ['Capricorn', 'Aquarius', 'Pisces', 'Aries', 'Taurus', 'Gemini', 'Cancer', 'Leo', 'Bergo', 'Libra',\n",
    "               'Scorpio', 'Sagittarius']\n",
    "zodiacs = [(119, 'Capricorn'), (217, 'Aquarius'), (319, 'Pisces'), (419, 'Aries'), (520, 'Taurus'),\n",
    "           (620, 'Gemini'), (721, 'Cancer'), (822, 'Leo'), (922, 'Virgo'), (1022, 'Libra'),\n",
    "           (1121, 'Scorpio'), (1221, 'Sagittarius'), (1231, 'Capricorn')]"
   ]
  },
  {
   "cell_type": "code",
   "execution_count": 18,
   "metadata": {
    "collapsed": true
   },
   "outputs": [],
   "source": [
    "def get_zodiac(row):\n",
    "    day = row[1]*100 + row[2]\n",
    "    for z in zodiacs:\n",
    "        if day <= z[0]:\n",
    "            return z[1]"
   ]
  },
  {
   "cell_type": "markdown",
   "metadata": {},
   "source": [
    "I can use the function and list to get the zodiacs information for my dataset, and insert another column to show the zodiacs information."
   ]
  },
  {
   "cell_type": "code",
   "execution_count": 19,
   "metadata": {},
   "outputs": [
    {
     "data": {
      "text/html": [
       "<div>\n",
       "<table border=\"1\" class=\"dataframe\">\n",
       "  <thead>\n",
       "    <tr style=\"text-align: right;\">\n",
       "      <th></th>\n",
       "      <th>year</th>\n",
       "      <th>month</th>\n",
       "      <th>date_of_month</th>\n",
       "      <th>zodiacs</th>\n",
       "      <th>day_of_week</th>\n",
       "      <th>births</th>\n",
       "    </tr>\n",
       "  </thead>\n",
       "  <tbody>\n",
       "    <tr>\n",
       "      <th>0</th>\n",
       "      <td>1994</td>\n",
       "      <td>1</td>\n",
       "      <td>1</td>\n",
       "      <td>Capricorn</td>\n",
       "      <td>6</td>\n",
       "      <td>8096</td>\n",
       "    </tr>\n",
       "    <tr>\n",
       "      <th>1</th>\n",
       "      <td>1994</td>\n",
       "      <td>1</td>\n",
       "      <td>2</td>\n",
       "      <td>Capricorn</td>\n",
       "      <td>7</td>\n",
       "      <td>7772</td>\n",
       "    </tr>\n",
       "    <tr>\n",
       "      <th>2</th>\n",
       "      <td>1994</td>\n",
       "      <td>1</td>\n",
       "      <td>3</td>\n",
       "      <td>Capricorn</td>\n",
       "      <td>1</td>\n",
       "      <td>10142</td>\n",
       "    </tr>\n",
       "    <tr>\n",
       "      <th>3</th>\n",
       "      <td>1994</td>\n",
       "      <td>1</td>\n",
       "      <td>4</td>\n",
       "      <td>Capricorn</td>\n",
       "      <td>2</td>\n",
       "      <td>11248</td>\n",
       "    </tr>\n",
       "    <tr>\n",
       "      <th>4</th>\n",
       "      <td>1994</td>\n",
       "      <td>1</td>\n",
       "      <td>5</td>\n",
       "      <td>Capricorn</td>\n",
       "      <td>3</td>\n",
       "      <td>11053</td>\n",
       "    </tr>\n",
       "  </tbody>\n",
       "</table>\n",
       "</div>"
      ],
      "text/plain": [
       "   year  month  date_of_month    zodiacs  day_of_week  births\n",
       "0  1994      1              1  Capricorn            6    8096\n",
       "1  1994      1              2  Capricorn            7    7772\n",
       "2  1994      1              3  Capricorn            1   10142\n",
       "3  1994      1              4  Capricorn            2   11248\n",
       "4  1994      1              5  Capricorn            3   11053"
      ]
     },
     "execution_count": 19,
     "metadata": {},
     "output_type": "execute_result"
    }
   ],
   "source": [
    "zod = data.apply(get_zodiac, axis = 1)\n",
    "data.insert(3, column = 'zodiacs', value = zod)\n",
    "data.head()"
   ]
  },
  {
   "cell_type": "markdown",
   "metadata": {},
   "source": [
    "Similar to analyzing yearly and monthly birth amount, I can figure out which zodiacs has the highest birth rate."
   ]
  },
  {
   "cell_type": "code",
   "execution_count": 20,
   "metadata": {},
   "outputs": [
    {
     "data": {
      "text/plain": [
       "zodiacs\n",
       "Capricorn       6400741.0\n",
       "Aquarius        6641372.0\n",
       "Sagittarius     6878050.0\n",
       "Pisces          6944942.0\n",
       "Scorpio         6988768.0\n",
       "Aries           7079969.0\n",
       "Taurus          7116377.0\n",
       "Libra           7177620.0\n",
       "Gemini          7239348.0\n",
       "Cancer          7453612.0\n",
       "Virgo           7640637.0\n",
       "Leo             7824791.0\n",
       "All            85386227.0\n",
       "Name: births, dtype: float64"
      ]
     },
     "execution_count": 20,
     "metadata": {},
     "output_type": "execute_result"
    }
   ],
   "source": [
    "zod = data.pivot_table(index = 'zodiacs', values = 'births', aggfunc = 'sum', margins = True)\n",
    "zod = zod.sort_values()\n",
    "zod"
   ]
  },
  {
   "cell_type": "code",
   "execution_count": 21,
   "metadata": {},
   "outputs": [
    {
     "data": {
      "image/png": "[encoded data removed]",
      "text/plain": [
       "<matplotlib.figure.Figure at 0x1128bc668>"
      ]
     },
     "metadata": {},
     "output_type": "display_data"
    }
   ],
   "source": [
    "colors = list('kkkkkkkkkkrr')\n",
    "my_plot = zod[:-1].plot(kind = 'bar', legend = None, title = 'Total Births per Zodiacs', color = colors)\n",
    "my_plot.tick_params(top = 'off', bottom = 'off', left = 'off', right = 'off')\n",
    "my_plot.spines['right'].set_visible(False)\n",
    "my_plot.spines['left'].set_visible(False)\n",
    "my_plot.spines['top'].set_visible(False)"
   ]
  },
  {
   "cell_type": "markdown",
   "metadata": {},
   "source": [
    "Last but not the least, I want to figure out what day of a week has the biggest amount of births."
   ]
  },
  {
   "cell_type": "code",
   "execution_count": 22,
   "metadata": {},
   "outputs": [
    {
     "data": {
      "text/plain": [
       "day_of_week\n",
       "1    12672592\n",
       "2    14015353\n",
       "3    13775310\n",
       "4    13691289\n",
       "5    13473095\n",
       "6     9417666\n",
       "7     8340922\n",
       "Name: births, dtype: int64"
      ]
     },
     "execution_count": 22,
     "metadata": {},
     "output_type": "execute_result"
    }
   ],
   "source": [
    "dow = data.groupby('day_of_week')['births'].sum()\n",
    "dow"
   ]
  },
  {
   "cell_type": "code",
   "execution_count": 23,
   "metadata": {},
   "outputs": [
    {
     "data": {
      "image/png": "[encoded data removed]",
      "text/plain": [
       "<matplotlib.figure.Figure at 0x10f262780>"
      ]
     },
     "metadata": {},
     "output_type": "display_data"
    }
   ],
   "source": [
    "plt.bar([1, 2, 3, 4, 5, 6, 7], dow.values, align = 'center')\n",
    "plt.xticks([1, 2, 3, 4, 5, 6, 7],['Mon', 'Tue', 'Wed', 'Thu', 'Fri', 'Sat', 'Sun'])\n",
    "plt.show()"
   ]
  },
  {
   "cell_type": "markdown",
   "metadata": {},
   "source": [
    "It is quite interesting to me that weekend birth rates are much lower than weekdays. This might because there are not as many hospitals and doctors available open as weekends. "
   ]
  },
  {
   "cell_type": "markdown",
   "metadata": {},
   "source": [
    "Since this is a practice project, I want to practice drawing plots that combine yearly births and month births together. This plot is for practice and future uses. There is not much information showing."
   ]
  },
  {
   "cell_type": "code",
   "execution_count": 24,
   "metadata": {},
   "outputs": [
    {
     "name": "stdout",
     "output_type": "stream",
     "text": [
      "            births\n",
      "year month        \n",
      "1994 1      320705\n",
      "     2      301327\n",
      "     3      339736\n",
      "     4      317392\n",
      "     5      330295\n"
     ]
    },
    {
     "data": {
      "text/plain": [
       "<matplotlib.legend.Legend at 0x1126f4860>"
      ]
     },
     "execution_count": 24,
     "metadata": {},
     "output_type": "execute_result"
    },
    {
     "data": {
      "image/png": "[encoded data removed]",
      "text/plain": [
       "<matplotlib.figure.Figure at 0x1129de080>"
      ]
     },
     "metadata": {},
     "output_type": "display_data"
    }
   ],
   "source": [
    "birth = data[['year','month','births']].groupby(['year', 'month']).sum()\n",
    "print(birth.head())\n",
    "my_plot = birth.unstack().plot(kind = 'bar', stacked = True, title = '1994 - 2003 US Baby Birth', figsize = [9, 7])\n",
    "my_plot.set_ylabel('Total Birth')\n",
    "my_plot.legend(['Jan', 'Feb', 'Mar', 'Apr', 'May', 'Jun', 'Jul', 'Aug', 'Sep', 'Oct', 'Nov', 'Dec'], loc = 9, ncol = 6)"
   ]
  }
 ],
 "metadata": {
  "anaconda-cloud": {},
  "kernelspec": {
   "display_name": "Python [default]",
   "language": "python",
   "name": "python3"
  },
  "language_info": {
   "codemirror_mode": {
    "name": "ipython",
    "version": 3
   },
   "file_extension": ".py",
   "mimetype": "text/x-python",
   "name": "python",
   "nbconvert_exporter": "python",
   "pygments_lexer": "ipython3",
   "version": "3.5.2"
  }
 },
 "nbformat": 4,
 "nbformat_minor": 1
}
